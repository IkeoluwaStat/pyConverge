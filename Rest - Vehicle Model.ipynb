{
 "cells": [
  {
   "cell_type": "code",
   "execution_count": 1,
   "id": "cba6a0ac",
   "metadata": {},
   "outputs": [],
   "source": [
    "import numpy as np \n",
    "import random \n",
    "import pandas as pd\n",
    "import matplotlib.pyplot as plt"
   ]
  },
  {
   "cell_type": "code",
   "execution_count": 2,
   "id": "960c7b10",
   "metadata": {},
   "outputs": [
    {
     "name": "stdout",
     "output_type": "stream",
     "text": [
      "[1, 3, 6, 4, 8, 7]\n"
     ]
    }
   ],
   "source": [
    "r = random.sample(range(0,10), 6)\n",
    "\n",
    "print(r)"
   ]
  },
  {
   "cell_type": "code",
   "execution_count": 3,
   "id": "9ea92c49",
   "metadata": {},
   "outputs": [],
   "source": [
    "#T is number of interations \n",
    "# n is the length of array  \n",
    "# m is the number of vehicles\n",
    "class CellularAutomata:\n",
    "    def __init__(self, T, n, m):\n",
    "        self.T = T\n",
    "        self.n = n\n",
    "        self.m = m \n",
    "        self.arr = []\n",
    "        self.df = []\n",
    "    \n",
    "    # here I generate the first array and fill it up in random positions with vehicles\n",
    "    # generate array is all zeroes \n",
    "    # filling with vehicles is when I put in 1s\n",
    "    def create_fill(self):\n",
    "        if self.n < self.m: \n",
    "            return []\n",
    "    \n",
    "        arr = [0] * self.n\n",
    "        random_positions = random.sample(range(0, self.n-1), self.m)\n",
    "\n",
    "        for position in range(0, len(random_positions)):\n",
    "            arr[random_positions[position]] = 1\n",
    "        \n",
    "        self.arr = arr\n",
    "        \n",
    "    \n",
    "    \n",
    "    # translate the vehicle from one array position to another based on the rule\n",
    "    def translate(self, arr):\n",
    "        new_arr = arr.copy()\n",
    "        \n",
    "        # this is the boundary condition where it comes\n",
    "        if new_arr[0] == 0 and new_arr[len(new_arr)-1] == 1:\n",
    "            new_arr[0] = 1\n",
    "            new_arr[len(new_arr)-1] = 0\n",
    "        \n",
    "        # this is the rule. movement occurs if there is a space in front of a vehicle 1 before 0\n",
    "        for i in range(0, len(arr)-1):\n",
    "            if arr[i] == 1 and arr[i+1] == 0:\n",
    "                new_arr[i] = 0\n",
    "                new_arr[i+1] = 1\n",
    "\n",
    "        return new_arr\n",
    "    \n",
    "    # this executes the logic over the iterations\n",
    "    # the result is appended to make a pandas table. \n",
    "    # first random creation and filling is at Time T0\n",
    "    def execute(self):\n",
    "        COLUMNS = []\n",
    "        for i in range(0, self.n):\n",
    "            COLUMNS.append('A'+str(i))\n",
    "            \n",
    "        \n",
    "        df = pd.DataFrame(columns=COLUMNS)\n",
    "        \n",
    "        arr = self.arr\n",
    "        df = df.append(dict(zip(df.columns, arr)), ignore_index=True)\n",
    "        \n",
    "        for i in range(0, self.T):\n",
    "            new_arr = self.translate(arr)\n",
    "            df = df.append(dict(zip(df.columns, new_arr)), ignore_index=True)\n",
    "            arr = new_arr\n",
    "            \n",
    "        self.df = df"
   ]
  },
  {
   "cell_type": "code",
   "execution_count": 4,
   "id": "18099a14",
   "metadata": {},
   "outputs": [],
   "source": [
    "def calculateDensity1(df, columnName, iterations):\n",
    "    total = df[columnName].sum()\n",
    "    \n",
    "    \n",
    "    return total/iterations\n",
    "\n",
    "def calculateDensity2(m,n):\n",
    "    return m/n\n",
    "\n",
    "\n",
    "def calculateFlow1(df, firstColumn, lastColumn, iterations):\n",
    "    \n",
    "    movement = 0; \n",
    "    for i in range(0, len(df)-1):\n",
    "        currentRow = df.iloc[i][firstColumn : lastColumn]\n",
    "        currentRow = currentRow.tolist()\n",
    "        \n",
    "        nextRow = df.iloc[i+1][firstColumn : lastColumn]\n",
    "        nextRow = nextRow.tolist()\n",
    "        \n",
    "        if nextRow != currentRow and (max(currentRow) != 0 and max(nextRow) != 0):\n",
    "            movement = movement +1\n",
    "    \n",
    "    \n",
    "    return movement / iterations"
   ]
  },
  {
   "cell_type": "code",
   "execution_count": 5,
   "id": "21d78291",
   "metadata": {},
   "outputs": [],
   "source": [
    "iterations = 30\n",
    "lengthOfArray = 30\n",
    "numberOfVehicles = 20\n",
    "\n",
    "cell = CellularAutomata(iterations, lengthOfArray, numberOfVehicles)\n",
    "cell.create_fill()\n",
    "cell.execute()\n",
    "\n",
    "outputMap = cell.df\n",
    "\n",
    "# print(\"Result after iterations\")\n",
    "# outputMap"
   ]
  },
  {
   "cell_type": "code",
   "execution_count": 6,
   "id": "6de42ddc",
   "metadata": {},
   "outputs": [
    {
     "name": "stdout",
     "output_type": "stream",
     "text": [
      "0.7 , 0.9333333333333333\n"
     ]
    }
   ],
   "source": [
    "densityRandomColumnName = 'A1' #for density calculation\n",
    "\n",
    "#column boundaries for flow calculation\n",
    "flowFirstColumn = 'A0'  \n",
    "flowLastColumn = 'A3'\n",
    "\n",
    "density1 = calculateDensity1(outputMap, densityRandomColumnName, iterations)\n",
    "#density2 = calculateDensity2(numberOfVehicles,lengthOfArray)\n",
    "movement = calculateFlow1(outputMap, flowFirstColumn, flowLastColumn, iterations)\n",
    "\n",
    "print(density1,',', movement)\n",
    "\n",
    "# print(\"density1 is \"+ str(density1))\n",
    "# #print(\"density2 is \"+ str(density2))\n",
    "# print(\"flow is \"+ str(movement))"
   ]
  },
  {
   "cell_type": "code",
   "execution_count": 7,
   "id": "380d53f7",
   "metadata": {},
   "outputs": [],
   "source": [
    "# outputMap"
   ]
  },
  {
   "cell_type": "code",
   "execution_count": 8,
   "id": "5491205a",
   "metadata": {
    "scrolled": true
   },
   "outputs": [],
   "source": [
    "lst = outputMap.values.tolist()"
   ]
  },
  {
   "cell_type": "code",
   "execution_count": 9,
   "id": "0eee1729",
   "metadata": {},
   "outputs": [
    {
     "data": {
      "text/plain": [
       "<matplotlib.image.AxesImage at 0x21bfc862f70>"
      ]
     },
     "execution_count": 9,
     "metadata": {},
     "output_type": "execute_result"
    },
    {
     "data": {
      "image/png": "[encoded data removed]",
      "text/plain": [
       "<Figure size 432x288 with 1 Axes>"
      ]
     },
     "metadata": {
      "needs_background": "light"
     },
     "output_type": "display_data"
    }
   ],
   "source": [
    "plt.imshow(lst)"
   ]
  },
  {
   "cell_type": "code",
   "execution_count": 172,
   "id": "fbd12807",
   "metadata": {},
   "outputs": [
    {
     "data": {
      "text/plain": [
       "<matplotlib.colorbar.Colorbar at 0x2407ddb2a90>"
      ]
     },
     "execution_count": 172,
     "metadata": {},
     "output_type": "execute_result"
    },
    {
     "data": {
      "image/png": "[encoded data removed]",
      "text/plain": [
       "<Figure size 280x210 with 2 Axes>"
      ]
     },
     "metadata": {
      "needs_background": "light"
     },
     "output_type": "display_data"
    }
   ],
   "source": [
    "w = 4\n",
    "h = 3\n",
    "d = 70\n",
    "plt.figure(figsize=(w, h), dpi=d)\n",
    "x = [[3, 4, 5],\n",
    "     [2, 3, 4],\n",
    "     [1, 2, 3]]\n",
    "\n",
    "color_map = plt.imshow(x)\n",
    "color_map.set_cmap(\"Blues_r\")\n",
    "plt.colorbar()"
   ]
  },
  {
   "cell_type": "code",
   "execution_count": 165,
   "id": "b1a0fc9f",
   "metadata": {},
   "outputs": [
    {
     "name": "stdout",
     "output_type": "stream",
     "text": [
      "<class 'numpy.ndarray'>\n"
     ]
    }
   ],
   "source": [
    "numpy_array = outputMap.to_numpy()\n",
    "numpy_array\n",
    "print(type(numpy_array))"
   ]
  },
  {
   "cell_type": "code",
   "execution_count": 168,
   "id": "82cda2b2",
   "metadata": {},
   "outputs": [
    {
     "name": "stdout",
     "output_type": "stream",
     "text": [
      "<class 'numpy.ndarray'>\n"
     ]
    }
   ],
   "source": [
    "values_array = outputMap.values\n",
    "values_array\n",
    "print(type(values_array))"
   ]
  },
  {
   "cell_type": "code",
   "execution_count": 174,
   "id": "0566aeb5",
   "metadata": {},
   "outputs": [],
   "source": [
    "#plt.imshow(numpy_array)"
   ]
  },
  {
   "cell_type": "code",
   "execution_count": 173,
   "id": "704ef576",
   "metadata": {},
   "outputs": [
    {
     "data": {
      "text/plain": [
       "list"
      ]
     },
     "execution_count": 173,
     "metadata": {},
     "output_type": "execute_result"
    }
   ],
   "source": [
    "type(x)"
   ]
  }
 ],
 "metadata": {
  "kernelspec": {
   "display_name": "Python 3",
   "language": "python",
   "name": "python3"
  },
  "language_info": {
   "codemirror_mode": {
    "name": "ipython",
    "version": 3
   },
   "file_extension": ".py",
   "mimetype": "text/x-python",
   "name": "python",
   "nbconvert_exporter": "python",
   "pygments_lexer": "ipython3",
   "version": "3.9.1"
  }
 },
 "nbformat": 4,
 "nbformat_minor": 5
}
